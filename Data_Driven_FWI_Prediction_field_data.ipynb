{
 "cells": [
  {
   "cell_type": "markdown",
   "id": "f539ab16-f7ec-42e2-a7db-e80f121264e8",
   "metadata": {},
   "source": [
    "# Data_Driven_FWI: Prediction on Real-field Dataset\n",
    "Created: Sanish Bhochhibhoya (04/23/2025)\n",
    "\n",
    "## License Information\n",
    "This file is part of _FWIPrePostAI_ - Shear Wave Velocity Prediction with data-driven Full Waveform Inversion (FWI) models.\n",
    "\n",
    "    Copyright (C) 2025 Vantassel, Bhochhibhoya (sbhochhi@vt.edu)\n",
    "    \n",
    "    This program is free software: you can redistribute it and/or modify\n",
    "    it under the terms of the GNU General Public License as published by\n",
    "    the Free Software Foundation, either version 3 of the License, or\n",
    "    (at your option) any later version.\n",
    "    \n",
    "    This program is distributed in the hope that it will be useful,\n",
    "    but WITHOUT ANY WARRANTY; without even the implied warranty of\n",
    "    MERCHANTABILITY or FITNESS FOR A PARTICULAR PURPOSE.  See the\n",
    "    GNU General Public License for more details.\n",
    "    \n",
    "    You should have received a copy of the GNU General Public License\n",
    "    along with this program.  If not, see <https: //www.gnu.org/licenses/>.\n",
    "\n",
    "## About _FWIPrePostAI_\n",
    "`FWIPrePostAI` is a Python-based toolkit designed to predict shear wave velocity profiles from waveform datasets using pre-trained \n",
    "artificial intelligence (AI) models. The repository includes tools for working with both simulated and real-field data, and features \n",
    "a pre-trained model developed as part of the study by Vantassel and Bhochhibhoya (2025).\n",
    "\n",
    "This work facilitates rapid and data-driven full waveform inversion (FWI) for geotechnical applications, lowering the technical barrier\n",
    "for non-expert users while maintaining robust predictive performance.\n",
    "\n",
    "## Citation\n",
    "If you use `FWIPrePostAI` in your research or consulting, we ask you please cite the following:\n",
    "> Vantassel, J. P. and Bhochhibhoya, S. (2025). “Toward More-Robust, AI-enabled Subsurface Seismic Imaging for\n",
    "> Geotechnical Applications.” Computers and Geotechnics. [In-Review]\n",
    "\n",
    "## About this notebook\n",
    "This notebook illustrates how to perform a data-driven FWI on the real-field waveform dataset using Vantassel and Bhochhibhoya (2025) model.\n",
    "\n",
    "### Data Format Requirements:\n",
    "1) Waveforms must be in .npy format before feeding them to the AI model.\n",
    "2) For Vantassel and Bhochhibhoya (2025) model, the waveform data should have a shape of 24 × 1000, representing 24 receivers and \n",
    "   1000 milliseconds of recorded data (fs=1000Hz). The preprocessing procedure outlined by Vantassel and Bhochhibhoya (2025),\n",
    "   which includes truncating the waveforms to 500 milliseconds and excluding the two central receivers, will be applied automatically later\n",
    "   in its in-built preprocessing codes.\n",
    "4) For the real-field dataset, it is recommended to apply the correction procedure proposed by Forbriger et al. (2014).\n",
    "\n",
    "## Getting Started\n",
    "1) Begin by following the instructions provided in the repository’s [README.md](https://github.com/geoimaging/fwiprepostai/blob/main/README.md?tab=readme-ov-file#getting-started) file to \n",
    "   download the software and install all required dependencies.\n",
    "2) To run the default example, open this notebook in JupyterLab, then navigate to `Kernel > Restart Kernel and Run All Cells`.\n",
    "3) After gaining familiarity with the provided examples, you are encouraged to experiment by applying the model to your own dataset or\n",
    "   even by loading and testing your own AI models."
   ]
  },
  {
   "cell_type": "code",
   "execution_count": 1,
   "id": "cab11833-d2f8-4046-b11b-7945b8bbd639",
   "metadata": {},
   "outputs": [],
   "source": [
    "import numpy as np\n",
    "import os\n",
    "import fwiprepostai.data_driven_fwi_models as fwi_models\n",
    "import fwiprepostai.data_analysis as data_analysis\n",
    "\n",
    "# Loading the model weights of Vantassel and Bhochhibhoya (2025) model.\n",
    "to_waveform_model_wt = r'data\\model_weights\\VantasselAndBhochhibhoya2025.weights.h5'\n",
    "\n",
    "# Loading the provided real-field (field-correction applied) dataset.\n",
    "to_waveform_np_folder = r'data\\waveforms\\real_field_data_numpy'\n",
    "raw_waveform = np.load(os.path.join(to_waveform_np_folder, 'drillfield_June28_lisousi.npy'))"
   ]
  },
  {
   "cell_type": "code",
   "execution_count": 2,
   "id": "12d6da1c-387b-48df-979e-c9d39af8d9c0",
   "metadata": {},
   "outputs": [
    {
     "name": "stdout",
     "output_type": "stream",
     "text": [
      "WARNING:tensorflow:From F:\\V_Tech Semesters\\MS Thesis\\Jupyter_MS\\venv\\Python_3119\\Lib\\site-packages\\keras\\src\\backend\\tensorflow\\core.py:192: The name tf.placeholder is deprecated. Please use tf.compat.v1.placeholder instead.\n",
      "\n",
      "\u001b[1m1/1\u001b[0m \u001b[32m━━━━━━━━━━━━━━━━━━━━\u001b[0m\u001b[37m\u001b[0m \u001b[1m0s\u001b[0m 137ms/step\n"
     ]
    },
    {
     "data": {
      "text/plain": [
       "<Axes: >"
      ]
     },
     "execution_count": 2,
     "metadata": {},
     "output_type": "execute_result"
    },
    {
     "data": {
      "image/png": "[encoded data removed]",
      "text/plain": [
       "<Figure size 640x480 with 2 Axes>"
      ]
     },
     "metadata": {},
     "output_type": "display_data"
    }
   ],
   "source": [
    "# Loading the Vantassel and Bhochhibhoya (2025) model.\n",
    "model = fwi_models.VantasselAndBhochhibhoya2025(to_waveform_model_wt)\n",
    "\n",
    "# Performing the prediction.\n",
    "proc_waveform, vs_pred = data_analysis.get_prediction(model, raw_waveform, 0.020)\n",
    "data_analysis.plot2d(vs_pred, vmin=0, vmax=2000, extent = [5,55,20,0])"
   ]
  },
  {
   "cell_type": "code",
   "execution_count": null,
   "id": "38342295-e47a-4b08-9c70-cc4aa5165116",
   "metadata": {},
   "outputs": [],
   "source": []
  }
 ],
 "metadata": {
  "kernelspec": {
   "display_name": "Python 3 (ipykernel)",
   "language": "python",
   "name": "python3"
  },
  "language_info": {
   "codemirror_mode": {
    "name": "ipython",
    "version": 3
   },
   "file_extension": ".py",
   "mimetype": "text/x-python",
   "name": "python",
   "nbconvert_exporter": "python",
   "pygments_lexer": "ipython3",
   "version": "3.11.9"
  }
 },
 "nbformat": 4,
 "nbformat_minor": 5
}
