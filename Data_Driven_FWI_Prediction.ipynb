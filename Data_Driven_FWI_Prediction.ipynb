{
 "cells": [
  {
   "cell_type": "markdown",
   "id": "ae0a512a-7c3d-43bd-b6ec-0279ac1621ad",
   "metadata": {},
   "source": [
    "Created by Sanish Bhochhibhoya (04/23/2025)\n",
    "\n",
    "### Data-Driven FWI\n",
    "\n",
    "Notebook to perform a prediction using Vantassel and Bhochhibhoya (2025) model.\n",
    "\n",
    "Requirements:\n",
    "1) Waveforms must be in .npy format. (or some way to convert your data in numpy matrix format).\n",
    "\n",
    "How to run these notebooks:\n",
    "1) Install all the requirements in requirements.txt\n",
    "2) Have folders - data and fwiprepostai, and notebooks in the same directory."
   ]
  },
  {
   "cell_type": "code",
   "execution_count": 20,
   "id": "cab11833-d2f8-4046-b11b-7945b8bbd639",
   "metadata": {},
   "outputs": [],
   "source": [
    "import pandas as pd\n",
    "import numpy as np\n",
    "import os, pprint\n",
    "import matplotlib.pyplot as plt\n",
    "import seiskit.data_driven_fwi_models as fwi_models\n",
    "import seiskit.data_analysis as data_analysis\n",
    "\n",
    "to_waveform_model_wt = r'data\\model_weights\\VantasselAndBhochhibhoya2025.weights.h5'\n",
    "to_waveform_np_folder = r'data\\waveforms\\real_field_data_numpy'\n",
    "\n",
    "raw_waveform = np.load(os.path.join(to_waveform_np_folder, 'drillfield_June28_lisousi.npy'))\n",
    "proc_waveform_load = np.load(os.path.join(to_waveform_np_folder, 'drillfield_June28_processed.npy'))\n",
    "vs_pred_load = np.load(os.path.join(to_waveform_np_folder, 'drillfield_June28_prediction.npy'))\n",
    "\n",
    "# raw_waveform = np.load(os.path.join(to_waveform_np_folder, 'drillfield_Oct18_SiteA7_lisousi.npy'))\n",
    "# proc_waveform_load = np.load(os.path.join(to_waveform_np_folder, 'drillfield_Oct18_SiteA7_processed.npy'))\n",
    "# vs_pred_load = np.load(os.path.join(to_waveform_np_folder, 'drillfield_Oct18_SiteA7_prediction.npy'))"
   ]
  },
  {
   "cell_type": "code",
   "execution_count": 21,
   "id": "12d6da1c-387b-48df-979e-c9d39af8d9c0",
   "metadata": {},
   "outputs": [
    {
     "name": "stdout",
     "output_type": "stream",
     "text": [
      "\u001b[1m1/1\u001b[0m \u001b[32m━━━━━━━━━━━━━━━━━━━━\u001b[0m\u001b[37m\u001b[0m \u001b[1m0s\u001b[0m 102ms/step\n"
     ]
    },
    {
     "data": {
      "text/plain": [
       "<Axes: >"
      ]
     },
     "execution_count": 21,
     "metadata": {},
     "output_type": "execute_result"
    },
    {
     "data": {
      "image/png": "[encoded data removed]",
      "text/plain": [
       "<Figure size 640x480 with 2 Axes>"
      ]
     },
     "metadata": {},
     "output_type": "display_data"
    }
   ],
   "source": [
    "# importlib.reload(fwi_models)\n",
    "model = fwi_models.VantasselAndBhochhibhoya2025(to_waveform_model_wt)\n",
    "proc_waveform, vs_pred = data_analysis.get_prediction(model, raw_waveform, 0.020)\n",
    "data_analysis.plot2d(vs_pred, vmin=0, vmax=2000, extent = [5,55,20,0])"
   ]
  },
  {
   "cell_type": "code",
   "execution_count": 22,
   "id": "42fb7a6e-f956-4de5-9439-ad7242a6a390",
   "metadata": {},
   "outputs": [],
   "source": [
    "def compare_two_numpy(np_a, np_b, tol=1e-3):\n",
    "    assert np.sum(np_a - np_b) <= tol, f\"Difference greater than tol {tol} - Actual sum of differences = {np.sum(np_a - np_b)}\"\n",
    "    \n",
    "compare_two_numpy(proc_waveform, proc_waveform_load, tol = 1e-5)\n",
    "compare_two_numpy(vs_pred, vs_pred_load, tol = 1e-1)"
   ]
  },
  {
   "cell_type": "code",
   "execution_count": null,
   "id": "22ecf3e4-ed62-46c3-951d-2944952ec1ff",
   "metadata": {},
   "outputs": [],
   "source": []
  },
  {
   "cell_type": "code",
   "execution_count": null,
   "id": "7c839227-053d-4db9-b2b2-ae3612a1ee7b",
   "metadata": {},
   "outputs": [],
   "source": []
  }
 ],
 "metadata": {
  "kernelspec": {
   "display_name": "Python 3 (ipykernel)",
   "language": "python",
   "name": "python3"
  },
  "language_info": {
   "codemirror_mode": {
    "name": "ipython",
    "version": 3
   },
   "file_extension": ".py",
   "mimetype": "text/x-python",
   "name": "python",
   "nbconvert_exporter": "python",
   "pygments_lexer": "ipython3",
   "version": "3.11.9"
  }
 },
 "nbformat": 4,
 "nbformat_minor": 5
}
