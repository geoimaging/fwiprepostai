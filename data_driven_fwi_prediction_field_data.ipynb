{
 "cells": [
  {
   "cell_type": "markdown",
   "id": "f539ab16-f7ec-42e2-a7db-e80f121264e8",
   "metadata": {},
   "source": [
    "# Data_Driven_FWI: Prediction on Real-field Dataset\n",
    "\n",
    "> Sanish Bhochhibhoya and [Joseph P. Vantassel](https://www.jpvantassel.com/)\n",
    "\n",
    "## License Information\n",
    "\n",
    "This file is part of _FWIPrePostAI_ - Shear Wave Velocity Prediction with data-driven Full Waveform Inversion (FWI) models.\n",
    "\n",
    "    Copyright (C) 2025 Bhochhibhoya S. (sbhochhi@vt.edu) and Vantassel J.P. (jpvantassel@vt.edu)\n",
    "    \n",
    "    This program is free software: you can redistribute it and/or modify\n",
    "    it under the terms of the GNU General Public License as published by\n",
    "    the Free Software Foundation, either version 3 of the License, or\n",
    "    (at your option) any later version.\n",
    "    \n",
    "    This program is distributed in the hope that it will be useful,\n",
    "    but WITHOUT ANY WARRANTY; without even the implied warranty of\n",
    "    MERCHANTABILITY or FITNESS FOR A PARTICULAR PURPOSE.  See the\n",
    "    GNU General Public License for more details.\n",
    "    \n",
    "    You should have received a copy of the GNU General Public License\n",
    "    along with this program.  If not, see <https: //www.gnu.org/licenses/>.\n",
    "\n",
    "## About _FWIPrePostAI_\n",
    "\n",
    "`FWIPrePostAI` is a Python-based toolkit designed to predict shear wave velocity profiles from waveform datasets using pre-trained artificial intelligence (AI) models. The repository includes tools for working with both simulated and real-field data, and features a pre-trained model developed by Vantassel and Bhochhibhoya (2025).\n",
    "\n",
    "This work facilitates rapid and data-driven full waveform inversion (FWI) for geotechnical applications, lowering the technical barrier for non-expert users while maintaining robust predictive performance.\n",
    "\n",
    "## Citation\n",
    "\n",
    "If you use `FWIPrePostAI` in your research or consulting, we ask you please cite the following:\n",
    "\n",
    "> Vantassel, J. P. and Bhochhibhoya, S. (2025). “Toward More-Robust, AI-enabled Subsurface Seismic Imaging for Geotechnical Applications.” Computers and Geotechnics. [In-Review]\n",
    "\n",
    "## About this notebook\n",
    "\n",
    "This notebook illustrates how to perform a data-driven FWI on a real field dataset using Vantassel and Bhochhibhoya (2025) model.\n",
    "\n",
    "### Data Format Requirements:\n",
    "\n",
    "1) Waveforms must be in .npy format before passing them to the AI model.\n",
    "2) For the Vantassel and Bhochhibhoya (2025) model, the waveform data should have a shape of 24 × 1000, representing 24 receivers and 1 second of data recorded at 1000 Hz. The preprocessing procedure outlined by Vantassel and Bhochhibhoya (2025), which includes truncating the waveforms to 500 milliseconds and excluding the two central receivers, will be applied automatically.\n",
    "3) When using your own datasets, the user should apply the correction procedure proposed by Forbriger et al. (2014).\n",
    "\n",
    "## Getting Started\n",
    "\n",
    "1) Begin by following the instructions provided in the repository’s [README.md](https://github.com/geoimaging/fwiprepostai/blob/main/README.md?tab=readme-ov-file#getting-started) file to download the software and install the required dependencies.\n",
    "2) To run the default example, open this notebook in JupyterLab, then navigate to `Kernel > Restart Kernel and Run All Cells`.\n",
    "3) After gaining familiarity with the provided examples, you are encouraged to experiment by applying the model to your own dataset."
   ]
  },
  {
   "cell_type": "code",
   "execution_count": 1,
   "id": "cab11833-d2f8-4046-b11b-7945b8bbd639",
   "metadata": {},
   "outputs": [
    {
     "name": "stderr",
     "output_type": "stream",
     "text": [
      "WARNING: All log messages before absl::InitializeLog() is called are written to STDERR\n",
      "E0000 00:00:1749492645.076891   22903 cuda_dnn.cc:8579] Unable to register cuDNN factory: Attempting to register factory for plugin cuDNN when one has already been registered\n",
      "E0000 00:00:1749492645.087225   22903 cuda_blas.cc:1407] Unable to register cuBLAS factory: Attempting to register factory for plugin cuBLAS when one has already been registered\n",
      "W0000 00:00:1749492645.108371   22903 computation_placer.cc:177] computation placer already registered. Please check linkage and avoid linking the same target more than once.\n",
      "W0000 00:00:1749492645.108418   22903 computation_placer.cc:177] computation placer already registered. Please check linkage and avoid linking the same target more than once.\n",
      "W0000 00:00:1749492645.108420   22903 computation_placer.cc:177] computation placer already registered. Please check linkage and avoid linking the same target more than once.\n",
      "W0000 00:00:1749492645.108421   22903 computation_placer.cc:177] computation placer already registered. Please check linkage and avoid linking the same target more than once.\n"
     ]
    }
   ],
   "source": [
    "import os\n",
    "os.environ['TF_CPP_MIN_LOG_LEVEL'] = '3'\n",
    "os.environ['TF_ENABLE_ONEDNN_OPTS'] = '0'\n",
    "os.environ[\"CUDA_VISIBLE_DEVICES\"] = \"-1\"\n",
    "import tensorflow as tf\n",
    "tf.get_logger().setLevel('ERROR')\n",
    "\n",
    "import numpy as np\n",
    "import fwiprepostai.data_driven_fwi_models as fwi_models\n",
    "import fwiprepostai.data_analysis as data_analysis\n",
    "\n",
    "# Loading the model weights of Vantassel and Bhochhibhoya (2025) model.\n",
    "to_waveform_model_wt = r'./data/model_weights/VantasselAndBhochhibhoya2025.weights.h5'\n",
    "\n",
    "# Loading the provided real-field (field-correction applied) dataset.\n",
    "to_waveform_np_folder = r'./data/waveforms/real_field_data_numpy'\n",
    "raw_waveform = np.load(os.path.join(to_waveform_np_folder, 'drillfield_June28_lisousi.npy'))"
   ]
  },
  {
   "cell_type": "code",
   "execution_count": 2,
   "id": "12d6da1c-387b-48df-979e-c9d39af8d9c0",
   "metadata": {},
   "outputs": [
    {
     "name": "stdout",
     "output_type": "stream",
     "text": [
      "\u001b[1m1/1\u001b[0m \u001b[32m━━━━━━━━━━━━━━━━━━━━\u001b[0m\u001b[37m\u001b[0m \u001b[1m0s\u001b[0m 216ms/step\n"
     ]
    },
    {
     "data": {
      "text/plain": [
       "<Axes: >"
      ]
     },
     "execution_count": 2,
     "metadata": {},
     "output_type": "execute_result"
    },
    {
     "data": {
      "image/png": "[encoded data removed]",
      "text/plain": [
       "<Figure size 640x480 with 2 Axes>"
      ]
     },
     "metadata": {},
     "output_type": "display_data"
    }
   ],
   "source": [
    "# Loading the Vantassel and Bhochhibhoya (2025) model.\n",
    "model = fwi_models.VantasselAndBhochhibhoya2025(to_waveform_model_wt)\n",
    "\n",
    "# Performing the prediction.\n",
    "proc_waveform, vs_pred = data_analysis.get_prediction(model, raw_waveform, 0.020)\n",
    "data_analysis.plot2d(vs_pred, vmin=0, vmax=2000, extent = [5,55,20,0])"
   ]
  },
  {
   "cell_type": "code",
   "execution_count": null,
   "id": "38342295-e47a-4b08-9c70-cc4aa5165116",
   "metadata": {},
   "outputs": [],
   "source": []
  }
 ],
 "metadata": {
  "kernelspec": {
   "display_name": "Python 3 (ipykernel)",
   "language": "python",
   "name": "python3"
  },
  "language_info": {
   "codemirror_mode": {
    "name": "ipython",
    "version": 3
   },
   "file_extension": ".py",
   "mimetype": "text/x-python",
   "name": "python",
   "nbconvert_exporter": "python",
   "pygments_lexer": "ipython3",
   "version": "3.12.9"
  }
 },
 "nbformat": 4,
 "nbformat_minor": 5
}
